{
 "cells": [
  {
   "cell_type": "code",
   "execution_count": 3,
   "id": "skilled-crest",
   "metadata": {},
   "outputs": [
    {
     "name": "stdout",
     "output_type": "stream",
     "text": [
      "------------------------------------------------\n",
      "------ Mengirim Email Menggunakan Python -------\n",
      "------------------------------------------------\n"
     ]
    },
    {
     "name": "stdin",
     "output_type": "stream",
     "text": [
      "Masukkan Email Pengirim:  ar.alhadyd@gmail.com\n",
      "Masukkan Password: ·············\n"
     ]
    },
    {
     "name": "stdout",
     "output_type": "stream",
     "text": [
      " \n"
     ]
    },
    {
     "name": "stdin",
     "output_type": "stream",
     "text": [
      "Masukkan Email Penerima:  hadyd@outlook.co.id\n",
      "Masukkan Subject:  Test Subject\n",
      "Masukkan Isi Pesan:  Ini adalah email Python\n"
     ]
    },
    {
     "name": "stdout",
     "output_type": "stream",
     "text": [
      "Lampiran: /home/hadyd/Pictures/Images/Doc.jpg\n",
      "\n",
      "Email berhasil dikirim ke hadyd@outlook.co.id\n",
      "------------------------------------------------\n"
     ]
    }
   ],
   "source": [
    "import smtplib\n",
    "from email.mime.text import MIMEText\n",
    "from email.mime.multipart import MIMEMultipart\n",
    "from email.mime.base import MIMEBase\n",
    "from email import encoders\n",
    "from getpass import getpass\n",
    "from tkinter import Tk\n",
    "from tkinter.filedialog import askopenfilename\n",
    "Tk().withdraw()\n",
    "\n",
    "print(\"------------------------------------------------\")\n",
    "print(\"------ Mengirim Email Menggunakan Python -------\")\n",
    "print(\"------------------------------------------------\")\n",
    "sender_email= input(str(\"Masukkan Email Pengirim: \"))\n",
    "password = getpass(\"Masukkan Password:\")\n",
    "print(\" \")\n",
    "receiver_email = input(str(\"Masukkan Email Penerima: \"))\n",
    "subject = input(str(\"Masukkan Subject: \"))\n",
    "\n",
    "msg = MIMEMultipart()\n",
    "msg['From'] = sender_email\n",
    "msg['To'] = receiver_email\n",
    "msg['Subject'] = subject\n",
    "\n",
    "body = input(str(\"Masukkan Isi Pesan: \"))\n",
    "msg.attach(MIMEText(body,\"plain\"))\n",
    "\n",
    "filename = askopenfilename()\n",
    "attachment = open(filename,\"rb\")\n",
    "print('Lampiran:', filename)\n",
    "\n",
    "part = MIMEBase(\"application\",\"octet-stream\")\n",
    "part.set_payload((attachment).read())\n",
    "encoders.encode_base64(part)\n",
    "part.add_header(\"Content-Disposition\", \"attachment; filename= \"+filename)\n",
    "\n",
    "msg.attach(part) \n",
    "text = msg.as_string()                 \n",
    "server = smtplib.SMTP('smtp.gmail.com', 587)\n",
    "server.starttls()\n",
    "server.login(sender_email, password)\n",
    "server.sendmail(sender_email, receiver_email, text)\n",
    "print (\"\")\n",
    "print (\"Email berhasil dikirim ke\", receiver_email)\n",
    "print(\"------------------------------------------------\")\n",
    "\n",
    "#Reference: \n",
    "#https://www.youtube.com/watch?v=bXRYJEKjqIM - How To Send an Email in Python With Attachment\n",
    "#https://stackoverflow.com/questions/3579568/choosing-a-file-in-python-with-simple-dialog"
   ]
  }
 ],
 "metadata": {
  "kernelspec": {
   "display_name": "Python 3",
   "language": "python",
   "name": "python3"
  },
  "language_info": {
   "codemirror_mode": {
    "name": "ipython",
    "version": 3
   },
   "file_extension": ".py",
   "mimetype": "text/x-python",
   "name": "python",
   "nbconvert_exporter": "python",
   "pygments_lexer": "ipython3",
   "version": "3.8.5"
  }
 },
 "nbformat": 4,
 "nbformat_minor": 5
}
