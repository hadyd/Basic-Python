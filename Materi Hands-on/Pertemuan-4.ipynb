{
 "cells": [
  {
   "cell_type": "markdown",
   "id": "stone-audio",
   "metadata": {},
   "source": [
    "# Dictionary"
   ]
  },
  {
   "cell_type": "code",
   "execution_count": 2,
   "id": "thrown-dialogue",
   "metadata": {},
   "outputs": [
    {
     "name": "stdout",
     "output_type": "stream",
     "text": [
      "Nama: Farhan\n",
      "Umur: 21\n"
     ]
    }
   ],
   "source": [
    "pelanggan = {\n",
    "    'nama' : 'Farhan',\n",
    "    'umur' : 21\n",
    "}\n",
    "\n",
    "print('Nama: {}'.format(pelanggan['nama']))\n",
    "print('Umur: {}'.format(pelanggan['umur']))"
   ]
  },
  {
   "cell_type": "code",
   "execution_count": 4,
   "id": "molecular-tender",
   "metadata": {},
   "outputs": [
    {
     "name": "stdout",
     "output_type": "stream",
     "text": [
      "Nama: Andi\n",
      "Umur: 17\n"
     ]
    }
   ],
   "source": [
    "pelanggan_2 = {'nama' : 'Andi','umur' : 17}\n",
    "\n",
    "print('Nama: {}'.format(pelanggan_2['nama']))\n",
    "print('Umur: {}'.format(pelanggan_2['umur']))"
   ]
  },
  {
   "cell_type": "code",
   "execution_count": 5,
   "id": "noble-affiliation",
   "metadata": {},
   "outputs": [
    {
     "name": "stdout",
     "output_type": "stream",
     "text": [
      "Nama: {'nama': 'Farhan', 'umur': 21}\n"
     ]
    }
   ],
   "source": [
    "print('Nama: {}'.format(pelanggan))"
   ]
  },
  {
   "cell_type": "code",
   "execution_count": 6,
   "id": "pleased-amino",
   "metadata": {},
   "outputs": [
    {
     "name": "stdout",
     "output_type": "stream",
     "text": [
      "{'nama': 'Farhan', 'umur': 21}\n"
     ]
    }
   ],
   "source": [
    "print(pelanggan)"
   ]
  },
  {
   "cell_type": "code",
   "execution_count": null,
   "id": "polar-ethnic",
   "metadata": {},
   "outputs": [],
   "source": [
    "# mengganti nilai di dalam dictionary"
   ]
  },
  {
   "cell_type": "code",
   "execution_count": 7,
   "id": "digital-double",
   "metadata": {},
   "outputs": [
    {
     "name": "stdout",
     "output_type": "stream",
     "text": [
      "{'nama': 'Farhan', 'umur': 17}\n"
     ]
    }
   ],
   "source": [
    "pelanggan ['umur'] = 17\n",
    "print(pelanggan)"
   ]
  },
  {
   "cell_type": "code",
   "execution_count": 8,
   "id": "speaking-affair",
   "metadata": {},
   "outputs": [
    {
     "name": "stdout",
     "output_type": "stream",
     "text": [
      "Nama: Farhan\n",
      "Umur: 17\n"
     ]
    }
   ],
   "source": [
    "print('Nama: {}'.format(pelanggan['nama']))\n",
    "print('Umur: {}'.format(pelanggan['umur']))"
   ]
  },
  {
   "cell_type": "code",
   "execution_count": null,
   "id": "existing-universal",
   "metadata": {},
   "outputs": [],
   "source": [
    "# loop dictionary"
   ]
  },
  {
   "cell_type": "code",
   "execution_count": 13,
   "id": "gorgeous-belize",
   "metadata": {},
   "outputs": [
    {
     "name": "stdout",
     "output_type": "stream",
     "text": [
      "nama\n",
      "Farhan\n",
      "Andi\n",
      "umur\n",
      "17\n",
      "17\n"
     ]
    }
   ],
   "source": [
    "for x in pelanggan:\n",
    "    print(x)\n",
    "    print(pelanggan [x])\n",
    "    print(pelanggan_2 [x])"
   ]
  },
  {
   "cell_type": "code",
   "execution_count": null,
   "id": "formal-juice",
   "metadata": {},
   "outputs": [],
   "source": [
    "# list dictionary"
   ]
  },
  {
   "cell_type": "code",
   "execution_count": 15,
   "id": "beginning-simple",
   "metadata": {},
   "outputs": [
    {
     "name": "stdout",
     "output_type": "stream",
     "text": [
      "Nama: Farhan\n",
      "Umur: 17\n",
      "Nama: Andi\n",
      "Umur: 17\n"
     ]
    }
   ],
   "source": [
    "daftar_pelanggan = []\n",
    "daftar_pelanggan.append(pelanggan)\n",
    "daftar_pelanggan.append(pelanggan_2)\n",
    "\n",
    "for i in daftar_pelanggan:\n",
    "    print('Nama: {}'.format(i['nama']))\n",
    "    print('Umur: {}'.format(i['umur']))\n"
   ]
  },
  {
   "cell_type": "code",
   "execution_count": null,
   "id": "surrounded-check",
   "metadata": {},
   "outputs": [],
   "source": [
    "# menghapus nilai di dalam dictionary"
   ]
  },
  {
   "cell_type": "code",
   "execution_count": 22,
   "id": "quantitative-rendering",
   "metadata": {},
   "outputs": [
    {
     "name": "stdout",
     "output_type": "stream",
     "text": [
      "{}\n"
     ]
    }
   ],
   "source": [
    "#clear\n",
    "\n",
    "data = {'Nama': 'Zara', 'Umur': 25, 'Kelas': 'Lima'}\n",
    "data.clear() #menghapus semua entri di dalam dictionary\n",
    "print(data)"
   ]
  },
  {
   "cell_type": "code",
   "execution_count": 19,
   "id": "emotional-harvard",
   "metadata": {},
   "outputs": [
    {
     "ename": "KeyError",
     "evalue": "'Zara'",
     "output_type": "error",
     "traceback": [
      "\u001b[1;31m---------------------------------------------------------------------------\u001b[0m",
      "\u001b[1;31mKeyError\u001b[0m                                  Traceback (most recent call last)",
      "\u001b[1;32m<ipython-input-19-a8fc1c553ccd>\u001b[0m in \u001b[0;36m<module>\u001b[1;34m\u001b[0m\n\u001b[0;32m      2\u001b[0m \u001b[1;33m\u001b[0m\u001b[0m\n\u001b[0;32m      3\u001b[0m \u001b[0mdata\u001b[0m \u001b[1;33m=\u001b[0m \u001b[1;33m{\u001b[0m\u001b[1;34m'Nama'\u001b[0m\u001b[1;33m:\u001b[0m \u001b[1;34m'Zara'\u001b[0m\u001b[1;33m,\u001b[0m \u001b[1;34m'Umur'\u001b[0m\u001b[1;33m:\u001b[0m \u001b[1;36m25\u001b[0m\u001b[1;33m,\u001b[0m \u001b[1;34m'Kelas'\u001b[0m\u001b[1;33m:\u001b[0m \u001b[1;34m'Lima'\u001b[0m\u001b[1;33m}\u001b[0m\u001b[1;33m\u001b[0m\u001b[1;33m\u001b[0m\u001b[0m\n\u001b[1;32m----> 4\u001b[1;33m \u001b[1;32mdel\u001b[0m \u001b[0mdata\u001b[0m\u001b[1;33m[\u001b[0m\u001b[1;34m'Zara'\u001b[0m\u001b[1;33m]\u001b[0m\u001b[1;33m\u001b[0m\u001b[1;33m\u001b[0m\u001b[0m\n\u001b[0m\u001b[0;32m      5\u001b[0m \u001b[0mprint\u001b[0m\u001b[1;33m(\u001b[0m\u001b[0mdata\u001b[0m\u001b[1;33m)\u001b[0m\u001b[1;33m\u001b[0m\u001b[1;33m\u001b[0m\u001b[0m\n",
      "\u001b[1;31mKeyError\u001b[0m: 'Zara'"
     ]
    }
   ],
   "source": [
    "#del\n",
    "\n",
    "data = {'Nama': 'Zara', 'Umur': 25, 'Kelas': 'Lima'}\n",
    "del data['Zara']  \n",
    "print(data)\n"
   ]
  },
  {
   "cell_type": "code",
   "execution_count": 20,
   "id": "portuguese-diversity",
   "metadata": {},
   "outputs": [
    {
     "name": "stdout",
     "output_type": "stream",
     "text": [
      "{'Umur': 25, 'Kelas': 'Lima'}\n"
     ]
    }
   ],
   "source": [
    "data = {'Nama': 'Zara', 'Umur': 25, 'Kelas': 'Lima'}\n",
    "del data['Nama'] #menghapus entri di dalam dictionary dengan key 'Nama'\n",
    "print(data)"
   ]
  },
  {
   "cell_type": "code",
   "execution_count": 21,
   "id": "expected-affairs",
   "metadata": {},
   "outputs": [
    {
     "ename": "NameError",
     "evalue": "name 'data' is not defined",
     "output_type": "error",
     "traceback": [
      "\u001b[1;31m---------------------------------------------------------------------------\u001b[0m",
      "\u001b[1;31mNameError\u001b[0m                                 Traceback (most recent call last)",
      "\u001b[1;32m<ipython-input-21-2f7e38e1e5c1>\u001b[0m in \u001b[0;36m<module>\u001b[1;34m\u001b[0m\n\u001b[0;32m      1\u001b[0m \u001b[0mdata\u001b[0m \u001b[1;33m=\u001b[0m \u001b[1;33m{\u001b[0m\u001b[1;34m'Nama'\u001b[0m\u001b[1;33m:\u001b[0m \u001b[1;34m'Zara'\u001b[0m\u001b[1;33m,\u001b[0m \u001b[1;34m'Umur'\u001b[0m\u001b[1;33m:\u001b[0m \u001b[1;36m25\u001b[0m\u001b[1;33m,\u001b[0m \u001b[1;34m'Kelas'\u001b[0m\u001b[1;33m:\u001b[0m \u001b[1;34m'Lima'\u001b[0m\u001b[1;33m}\u001b[0m\u001b[1;33m\u001b[0m\u001b[1;33m\u001b[0m\u001b[0m\n\u001b[0;32m      2\u001b[0m \u001b[1;32mdel\u001b[0m \u001b[0mdata\u001b[0m\u001b[1;33m\u001b[0m\u001b[1;33m\u001b[0m\u001b[0m\n\u001b[1;32m----> 3\u001b[1;33m \u001b[0mprint\u001b[0m \u001b[1;33m(\u001b[0m\u001b[0mdata\u001b[0m\u001b[1;33m)\u001b[0m\u001b[1;33m\u001b[0m\u001b[1;33m\u001b[0m\u001b[0m\n\u001b[0m",
      "\u001b[1;31mNameError\u001b[0m: name 'data' is not defined"
     ]
    }
   ],
   "source": [
    "data = {'Nama': 'Zara', 'Umur': 25, 'Kelas': 'Lima'}\n",
    "del data\n",
    "print (data)"
   ]
  },
  {
   "cell_type": "code",
   "execution_count": null,
   "id": "printable-favor",
   "metadata": {},
   "outputs": [],
   "source": [
    "# mengambil beberapa value di dalam key di dalam dictionary"
   ]
  },
  {
   "cell_type": "code",
   "execution_count": 25,
   "id": "spectacular-macintosh",
   "metadata": {},
   "outputs": [
    {
     "name": "stdout",
     "output_type": "stream",
     "text": [
      "Zara\n",
      "Lima\n"
     ]
    }
   ],
   "source": [
    "data2 = {'Nama': 'Zara', 'Umur': 25, 'Kelas': 'Lima'}\n",
    "print(data['Nama'])\n",
    "print(data['Kelas'])"
   ]
  },
  {
   "cell_type": "code",
   "execution_count": 27,
   "id": "scheduled-passage",
   "metadata": {},
   "outputs": [
    {
     "name": "stdout",
     "output_type": "stream",
     "text": [
      "Nama: Zara\n",
      "Kelas: Lima\n"
     ]
    }
   ],
   "source": [
    "data2 = {'Nama': 'Zara', 'Umur': 25, 'Kelas': 'Lima'}\n",
    "print('Nama:',data['Nama'])\n",
    "print('Kelas:',data['Kelas'])"
   ]
  },
  {
   "cell_type": "markdown",
   "id": "backed-beverage",
   "metadata": {},
   "source": [
    "# Function"
   ]
  },
  {
   "cell_type": "code",
   "execution_count": 28,
   "id": "smaller-composite",
   "metadata": {},
   "outputs": [
    {
     "name": "stdout",
     "output_type": "stream",
     "text": [
      "Hallo ini hanya coba function\n",
      "ini adalah function\n",
      "ini percobaan pertama\n"
     ]
    }
   ],
   "source": [
    "def coba_function():\n",
    "    print(\"Hallo ini hanya coba function\")\n",
    "    print(\"Ini adalah function\")\n",
    "    print(\"Ini percobaan pertama\")\n",
    "\n",
    "coba_function()"
   ]
  },
  {
   "cell_type": "code",
   "execution_count": 30,
   "id": "hungry-enhancement",
   "metadata": {},
   "outputs": [
    {
     "name": "stdout",
     "output_type": "stream",
     "text": [
      "Halo Adi - Wijaya\n",
      "Halo Andi - Yusuf\n",
      "Halo Budi -  \n"
     ]
    }
   ],
   "source": [
    "def my_function(first_name, last_name=' '):\n",
    "    print(\"Halo {} - {}\".format(first_name, last_name))\n",
    "\n",
    "my_function('Adi','Wijaya')\n",
    "my_function('Andi',\"Yusuf\")\n",
    "my_function('Budi')\n"
   ]
  },
  {
   "cell_type": "code",
   "execution_count": 31,
   "id": "suffering-mechanics",
   "metadata": {},
   "outputs": [
    {
     "ename": "TypeError",
     "evalue": "my_function() missing 1 required positional argument: 'last_name'",
     "output_type": "error",
     "traceback": [
      "\u001b[1;31m---------------------------------------------------------------------------\u001b[0m",
      "\u001b[1;31mTypeError\u001b[0m                                 Traceback (most recent call last)",
      "\u001b[1;32m<ipython-input-31-68fd18f4a423>\u001b[0m in \u001b[0;36m<module>\u001b[1;34m\u001b[0m\n\u001b[0;32m      2\u001b[0m     \u001b[0mprint\u001b[0m\u001b[1;33m(\u001b[0m\u001b[1;34m\"Halo {} - {}\"\u001b[0m\u001b[1;33m.\u001b[0m\u001b[0mformat\u001b[0m\u001b[1;33m(\u001b[0m\u001b[0mfirst_name\u001b[0m\u001b[1;33m,\u001b[0m \u001b[0mlast_name\u001b[0m\u001b[1;33m)\u001b[0m\u001b[1;33m)\u001b[0m\u001b[1;33m\u001b[0m\u001b[1;33m\u001b[0m\u001b[0m\n\u001b[0;32m      3\u001b[0m \u001b[1;33m\u001b[0m\u001b[0m\n\u001b[1;32m----> 4\u001b[1;33m \u001b[0mmy_function\u001b[0m\u001b[1;33m(\u001b[0m\u001b[1;34m'Budi'\u001b[0m\u001b[1;33m)\u001b[0m\u001b[1;33m\u001b[0m\u001b[1;33m\u001b[0m\u001b[0m\n\u001b[0m",
      "\u001b[1;31mTypeError\u001b[0m: my_function() missing 1 required positional argument: 'last_name'"
     ]
    }
   ],
   "source": [
    "def my_function(first_name, last_name):\n",
    "    print(\"Halo {} - {}\".format(first_name, last_name))\n",
    "\n",
    "my_function('Budi')"
   ]
  },
  {
   "cell_type": "code",
   "execution_count": 32,
   "id": "restricted-migration",
   "metadata": {},
   "outputs": [
    {
     "ename": "TypeError",
     "evalue": "my_function() missing 1 required positional argument: 'first_name'",
     "output_type": "error",
     "traceback": [
      "\u001b[1;31m---------------------------------------------------------------------------\u001b[0m",
      "\u001b[1;31mTypeError\u001b[0m                                 Traceback (most recent call last)",
      "\u001b[1;32m<ipython-input-32-fe269f368c11>\u001b[0m in \u001b[0;36m<module>\u001b[1;34m\u001b[0m\n\u001b[0;32m      2\u001b[0m     \u001b[0mprint\u001b[0m\u001b[1;33m(\u001b[0m\u001b[1;34m\"Halo {} - {}\"\u001b[0m\u001b[1;33m.\u001b[0m\u001b[0mformat\u001b[0m\u001b[1;33m(\u001b[0m\u001b[0mfirst_name\u001b[0m\u001b[1;33m,\u001b[0m \u001b[0mlast_name\u001b[0m\u001b[1;33m)\u001b[0m\u001b[1;33m)\u001b[0m\u001b[1;33m\u001b[0m\u001b[1;33m\u001b[0m\u001b[0m\n\u001b[0;32m      3\u001b[0m \u001b[1;33m\u001b[0m\u001b[0m\n\u001b[1;32m----> 4\u001b[1;33m \u001b[0mmy_function\u001b[0m\u001b[1;33m(\u001b[0m\u001b[1;33m)\u001b[0m\u001b[1;33m\u001b[0m\u001b[1;33m\u001b[0m\u001b[0m\n\u001b[0m",
      "\u001b[1;31mTypeError\u001b[0m: my_function() missing 1 required positional argument: 'first_name'"
     ]
    }
   ],
   "source": [
    "def my_function(first_name, last_name=' '):\n",
    "    print(\"Halo {} - {}\".format(first_name, last_name))\n",
    "\n",
    "my_function()"
   ]
  },
  {
   "cell_type": "code",
   "execution_count": 33,
   "id": "impossible-poverty",
   "metadata": {},
   "outputs": [
    {
     "name": "stdout",
     "output_type": "stream",
     "text": [
      "Halo   -  \n"
     ]
    }
   ],
   "source": [
    "def my_function(first_name=' ', last_name=' '):\n",
    "    print(\"Halo {} - {}\".format(first_name, last_name))\n",
    "\n",
    "my_function()"
   ]
  },
  {
   "cell_type": "code",
   "execution_count": null,
   "id": "arabic-estate",
   "metadata": {},
   "outputs": [],
   "source": [
    "# function keyword"
   ]
  },
  {
   "cell_type": "code",
   "execution_count": 37,
   "id": "celtic-clinton",
   "metadata": {},
   "outputs": [
    {
     "name": "stdout",
     "output_type": "stream",
     "text": [
      "Anak yang paling kecil adalah Lusi\n",
      "Anak yang paling kecil adalah Andi\n"
     ]
    }
   ],
   "source": [
    "def my_function2(anak_ke3, anak_ke2, anak_ke1):\n",
    "    print('Anak yang paling kecil adalah', anak_ke3)\n",
    "    \n",
    "my_function2(anak_ke1 = 'Andi', anak_ke2 = 'Budi', anak_ke3 = 'Lusi')\n",
    "my_function2('Andi','Budi','Lusi')"
   ]
  },
  {
   "cell_type": "code",
   "execution_count": 38,
   "id": "lesbian-camcorder",
   "metadata": {},
   "outputs": [
    {
     "name": "stdout",
     "output_type": "stream",
     "text": [
      "Anak yang paling kecil adalah Lusi\n",
      "Anak yang paling kecil adalah Andi\n"
     ]
    }
   ],
   "source": [
    "def my_function(anak_ke3, anak_ke2, anak_ke1):\n",
    "    print('Anak yang paling kecil adalah', anak_ke3)\n",
    "    \n",
    "my_function(anak_ke1 = 'Andi', anak_ke2 = 'Budi', anak_ke3 = 'Lusi')\n",
    "my_function('Andi','Budi','Lusi')"
   ]
  },
  {
   "cell_type": "code",
   "execution_count": 39,
   "id": "acoustic-scout",
   "metadata": {},
   "outputs": [
    {
     "ename": "TypeError",
     "evalue": "my_function() missing 3 required positional arguments: 'anak_ke3', 'anak_ke2', and 'anak_ke1'",
     "output_type": "error",
     "traceback": [
      "\u001b[1;31m---------------------------------------------------------------------------\u001b[0m",
      "\u001b[1;31mTypeError\u001b[0m                                 Traceback (most recent call last)",
      "\u001b[1;32m<ipython-input-39-7bebf01be998>\u001b[0m in \u001b[0;36m<module>\u001b[1;34m\u001b[0m\n\u001b[1;32m----> 1\u001b[1;33m \u001b[0mmy_function\u001b[0m\u001b[1;33m(\u001b[0m\u001b[1;33m)\u001b[0m\u001b[1;33m\u001b[0m\u001b[1;33m\u001b[0m\u001b[0m\n\u001b[0m",
      "\u001b[1;31mTypeError\u001b[0m: my_function() missing 3 required positional arguments: 'anak_ke3', 'anak_ke2', and 'anak_ke1'"
     ]
    }
   ],
   "source": [
    "my_function()"
   ]
  },
  {
   "cell_type": "code",
   "execution_count": null,
   "id": "academic-boards",
   "metadata": {},
   "outputs": [],
   "source": [
    "# contoh function"
   ]
  },
  {
   "cell_type": "code",
   "execution_count": 15,
   "id": "continental-officer",
   "metadata": {},
   "outputs": [
    {
     "name": "stdout",
     "output_type": "stream",
     "text": [
      "Jeruk\n",
      "==============\n",
      "Jeruk\n",
      "Apel\n",
      "==============\n",
      "Jeruk\n",
      "Apel\n",
      "Melon\n",
      "==============\n",
      "Jeruk\n",
      "Apel\n",
      "Melon\n",
      "Pisang\n",
      "==============\n"
     ]
    }
   ],
   "source": [
    "nama_buah = []\n",
    "\n",
    "def tambah_nama_buah (nama):\n",
    "    nama_buah.append(nama)\n",
    "    print_nama_buah()\n",
    "\n",
    "def print_nama_buah():\n",
    "    for y in nama_buah:\n",
    "        print(y)\n",
    "    print('==============')\n",
    "\n",
    "tambah_nama_buah('Jeruk')\n",
    "tambah_nama_buah('Apel')\n",
    "tambah_nama_buah('Melon')\n",
    "tambah_nama_buah('Pisang')\n"
   ]
  },
  {
   "cell_type": "markdown",
   "id": "severe-episode",
   "metadata": {},
   "source": [
    "# Pendalaman Function"
   ]
  },
  {
   "cell_type": "markdown",
   "id": "elegant-therapist",
   "metadata": {},
   "source": [
    "Buatlah chatbot menu curhat dengan function"
   ]
  },
  {
   "cell_type": "code",
   "execution_count": 21,
   "id": "constant-tiger",
   "metadata": {},
   "outputs": [
    {
     "name": "stdout",
     "output_type": "stream",
     "text": [
      "Hai, aku AIs, asisten virtual pertamamu\n",
      "Siapa namamu?\n"
     ]
    },
    {
     "name": "stdin",
     "output_type": "stream",
     "text": [
      "Masukkan nama: Rizki\n"
     ]
    },
    {
     "name": "stdout",
     "output_type": "stream",
     "text": [
      "\n",
      "Salam kenal Rizki\n",
      "Apa ada yang bisa aku bantu?\n",
      " \n",
      "Silahkan pilih menu yang bisa aku berikan\n",
      "1. Menemani curhatmu\n",
      "2. Keluar\n"
     ]
    },
    {
     "name": "stdin",
     "output_type": "stream",
     "text": [
      "\n",
      "Pilih hanya angka saja ya: 1\n",
      "Coba ceritakan curhatmu: hari ini aku senang\n",
      "Coba ceritakan lebih banyak lagi: aku menang undian dan hadiahnya sangat banyak\n"
     ]
    },
    {
     "name": "stdout",
     "output_type": "stream",
     "text": [
      "Itu sangan menarik!\n"
     ]
    },
    {
     "name": "stdin",
     "output_type": "stream",
     "text": [
      "Coba ceritakan lebih banyak lagi: iya, aku akan membeli rumah dengan hadiah itu\n"
     ]
    },
    {
     "name": "stdout",
     "output_type": "stream",
     "text": [
      "Itu sangan menarik!\n"
     ]
    },
    {
     "name": "stdin",
     "output_type": "stream",
     "text": [
      "Coba ceritakan lebih banyak lagi: rumah dengan design yang modern tentunya\n"
     ]
    },
    {
     "name": "stdout",
     "output_type": "stream",
     "text": [
      "\n",
      "Oke, tetap semangat ya! :)\n",
      "=====================\n",
      " \n",
      "Silahkan pilih menu yang bisa aku berikan\n",
      "1. Menemani curhatmu\n",
      "2. Keluar\n"
     ]
    },
    {
     "name": "stdin",
     "output_type": "stream",
     "text": [
      "\n",
      "Pilih hanya angka saja ya: 2\n"
     ]
    },
    {
     "name": "stdout",
     "output_type": "stream",
     "text": [
      "\n",
      "Oke, sampai jumpa\n",
      "=====================\n"
     ]
    }
   ],
   "source": [
    "#Menu awal\n",
    "\n",
    "def show_menu():\n",
    "    print('Silahkan pilih menu yang bisa aku berikan')\n",
    "    print('1. Menemani curhatmu')\n",
    "    print('2. Keluar')\n",
    "\n",
    "#Pengantar\n",
    "print('Hai, aku AIs, asisten virtual pertamamu')\n",
    "print('Siapa namamu?')\n",
    "\n",
    "nama = input('Masukkan nama:')\n",
    "\n",
    "print(\"\\nSalam kenal {}\".format(nama))\n",
    "print('Apa ada yang bisa aku bantu?')\n",
    "\n",
    "#Munculkan menu awal\n",
    "while True:\n",
    "    print(' ')\n",
    "    show_menu()\n",
    "    \n",
    "    menu_awal = input('\\nPilih hanya angka saja ya:')\n",
    "    \n",
    "    if menu_awal == '1':\n",
    "        input('Coba ceritakan curhatmu:')\n",
    "        while True:\n",
    "            \n",
    "            Cerita= input('Coba ceritakan lebih banyak lagi:')\n",
    "            \n",
    "            if 'bodoh' in Cerita or 'gagal' in Cerita or 'kalah' in Cerita or 'jelek' in Cerita:\n",
    "                print('Kenapa kamu berpikir seperti itu?')\n",
    "            elif 'kecewa' in Cerita or 'sedih' in Cerita or 'putus asa' in Cerita:\n",
    "                print('Sudah berapa lama kamu merasa seperti itu?')\n",
    "            elif 'senang' in Cerita or 'berhasil' in Cerita or 'menang' in Cerita or 'hadiah' in Cerita:\n",
    "                print('Itu sangan menarik!')\n",
    "            else:\n",
    "                print('\\nOke, tetap semangat ya!', ':)')\n",
    "                print(\"=====================\")\n",
    "                break\n",
    "    \n",
    "    elif menu_awal == '2':\n",
    "        print(\"\\nOke, sampai jumpa\")\n",
    "        print(\"=====================\")\n",
    "        break\n",
    "    else:\n",
    "        print(\"\\nMaaf, aku belum paham yang kamu mau\")\n",
    "        print(\"=====================\")\n",
    "    "
   ]
  },
  {
   "cell_type": "code",
   "execution_count": null,
   "id": "powered-stake",
   "metadata": {},
   "outputs": [],
   "source": [
    "# Return"
   ]
  },
  {
   "cell_type": "code",
   "execution_count": 9,
   "id": "structured-pakistan",
   "metadata": {},
   "outputs": [
    {
     "data": {
      "text/plain": [
       "9"
      ]
     },
     "execution_count": 9,
     "metadata": {},
     "output_type": "execute_result"
    }
   ],
   "source": [
    "def total (x,y):\n",
    "    total = x + y\n",
    "    return total\n",
    "\n",
    "total (5,4)"
   ]
  },
  {
   "cell_type": "code",
   "execution_count": 10,
   "id": "signed-athletics",
   "metadata": {},
   "outputs": [
    {
     "data": {
      "text/plain": [
       "19"
      ]
     },
     "execution_count": 10,
     "metadata": {},
     "output_type": "execute_result"
    }
   ],
   "source": [
    "total (9,10)"
   ]
  },
  {
   "cell_type": "code",
   "execution_count": 11,
   "id": "vital-timer",
   "metadata": {},
   "outputs": [
    {
     "name": "stdout",
     "output_type": "stream",
     "text": [
      "9\n"
     ]
    }
   ],
   "source": [
    "def total (x,y):\n",
    "    total = x + y\n",
    "    return total\n",
    "\n",
    "jumlah = total (5,4)\n",
    "print(jumlah)"
   ]
  },
  {
   "cell_type": "code",
   "execution_count": 13,
   "id": "chief-suffering",
   "metadata": {},
   "outputs": [
    {
     "data": {
      "text/plain": [
       "10"
      ]
     },
     "execution_count": 13,
     "metadata": {},
     "output_type": "execute_result"
    }
   ],
   "source": [
    "def total (x,y):\n",
    "    total = x + y\n",
    "    return 10\n",
    "\n",
    "total (11,2)"
   ]
  },
  {
   "cell_type": "code",
   "execution_count": 17,
   "id": "incomplete-floating",
   "metadata": {},
   "outputs": [
    {
     "name": "stdout",
     "output_type": "stream",
     "text": [
      "14\n"
     ]
    }
   ],
   "source": [
    "def total_buah_sisa():\n",
    "    return 10\n",
    "\n",
    "total_buah = len(nama_buah) + total_buah_sisa()\n",
    "print (total_buah)"
   ]
  },
  {
   "cell_type": "code",
   "execution_count": null,
   "id": "married-white",
   "metadata": {},
   "outputs": [],
   "source": [
    "# Menghitung luas persegi"
   ]
  },
  {
   "cell_type": "code",
   "execution_count": 19,
   "id": "published-demand",
   "metadata": {},
   "outputs": [
    {
     "data": {
      "text/plain": [
       "4"
      ]
     },
     "execution_count": 19,
     "metadata": {},
     "output_type": "execute_result"
    }
   ],
   "source": [
    "def luas_persegi (sisi):\n",
    "    luas = sisi * sisi\n",
    "    return luas\n",
    "\n",
    "luas_persegi(2)"
   ]
  },
  {
   "cell_type": "code",
   "execution_count": 20,
   "id": "governmental-aspect",
   "metadata": {},
   "outputs": [
    {
     "data": {
      "text/plain": [
       "8"
      ]
     },
     "execution_count": 20,
     "metadata": {},
     "output_type": "execute_result"
    }
   ],
   "source": [
    "def volume (sisi):\n",
    "    volume = luas_persegi (sisi) * sisi\n",
    "    return volume\n",
    "\n",
    "volume (2)"
   ]
  },
  {
   "cell_type": "code",
   "execution_count": null,
   "id": "aquatic-johnston",
   "metadata": {},
   "outputs": [],
   "source": []
  }
 ],
 "metadata": {
  "kernelspec": {
   "display_name": "Python 3",
   "language": "python",
   "name": "python3"
  },
  "language_info": {
   "codemirror_mode": {
    "name": "ipython",
    "version": 3
   },
   "file_extension": ".py",
   "mimetype": "text/x-python",
   "name": "python",
   "nbconvert_exporter": "python",
   "pygments_lexer": "ipython3",
   "version": "3.8.3"
  }
 },
 "nbformat": 4,
 "nbformat_minor": 5
}
