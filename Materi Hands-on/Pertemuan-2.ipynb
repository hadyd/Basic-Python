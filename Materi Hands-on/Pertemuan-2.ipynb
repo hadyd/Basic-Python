{
 "cells": [
  {
   "cell_type": "markdown",
   "id": "regulation-essex",
   "metadata": {},
   "source": [
    "# User Input"
   ]
  },
  {
   "cell_type": "code",
   "execution_count": 5,
   "id": "sought-summary",
   "metadata": {},
   "outputs": [
    {
     "name": "stdin",
     "output_type": "stream",
     "text": [
      "Masukkan nama: Rizki\n"
     ]
    },
    {
     "name": "stdout",
     "output_type": "stream",
     "text": [
      "Rizki\n"
     ]
    }
   ],
   "source": [
    "nama = input(\"Masukkan nama:\")\n",
    "print(nama)"
   ]
  },
  {
   "cell_type": "code",
   "execution_count": 6,
   "id": "found-democrat",
   "metadata": {},
   "outputs": [
    {
     "name": "stdin",
     "output_type": "stream",
     "text": [
      "Masukkan nama: 10.8\n"
     ]
    },
    {
     "name": "stdout",
     "output_type": "stream",
     "text": [
      "<class 'str'>\n"
     ]
    }
   ],
   "source": [
    "nama = input(\"Masukkan nama:\")\n",
    "print(type(nama))"
   ]
  },
  {
   "cell_type": "code",
   "execution_count": 7,
   "id": "domestic-sigma",
   "metadata": {},
   "outputs": [
    {
     "name": "stdin",
     "output_type": "stream",
     "text": [
      "Masukkan nama: Rizki\n"
     ]
    },
    {
     "name": "stdout",
     "output_type": "stream",
     "text": [
      "<class 'str'>\n",
      "Nama kamu adalah Rizki\n"
     ]
    }
   ],
   "source": [
    "nama = input(\"Masukkan nama:\")\n",
    "print(type(nama))\n",
    "print(\"Nama kamu adalah\"+\" \"+ nama)"
   ]
  },
  {
   "cell_type": "code",
   "execution_count": 9,
   "id": "final-model",
   "metadata": {},
   "outputs": [
    {
     "name": "stdin",
     "output_type": "stream",
     "text": [
      "Umur kamu: 17\n"
     ]
    },
    {
     "name": "stdout",
     "output_type": "stream",
     "text": [
      "<class 'int'>\n"
     ]
    },
    {
     "ename": "TypeError",
     "evalue": "can only concatenate str (not \"int\") to str",
     "output_type": "error",
     "traceback": [
      "\u001b[1;31m---------------------------------------------------------------------------\u001b[0m",
      "\u001b[1;31mTypeError\u001b[0m                                 Traceback (most recent call last)",
      "\u001b[1;32m<ipython-input-9-89d5a1b9657d>\u001b[0m in \u001b[0;36m<module>\u001b[1;34m\u001b[0m\n\u001b[0;32m      1\u001b[0m \u001b[0mumur\u001b[0m \u001b[1;33m=\u001b[0m \u001b[0mint\u001b[0m\u001b[1;33m(\u001b[0m\u001b[0minput\u001b[0m\u001b[1;33m(\u001b[0m\u001b[1;34m\"Umur kamu:\"\u001b[0m\u001b[1;33m)\u001b[0m\u001b[1;33m)\u001b[0m\u001b[1;33m\u001b[0m\u001b[1;33m\u001b[0m\u001b[0m\n\u001b[0;32m      2\u001b[0m \u001b[0mprint\u001b[0m\u001b[1;33m(\u001b[0m\u001b[0mtype\u001b[0m\u001b[1;33m(\u001b[0m\u001b[0mumur\u001b[0m\u001b[1;33m)\u001b[0m\u001b[1;33m)\u001b[0m\u001b[1;33m\u001b[0m\u001b[1;33m\u001b[0m\u001b[0m\n\u001b[1;32m----> 3\u001b[1;33m \u001b[0mprint\u001b[0m\u001b[1;33m(\u001b[0m\u001b[1;34m\"Umur kamu adalah\"\u001b[0m\u001b[1;33m+\u001b[0m\u001b[1;34m\" \"\u001b[0m\u001b[1;33m+\u001b[0m \u001b[0mumur\u001b[0m\u001b[1;33m)\u001b[0m\u001b[1;33m\u001b[0m\u001b[1;33m\u001b[0m\u001b[0m\n\u001b[0m",
      "\u001b[1;31mTypeError\u001b[0m: can only concatenate str (not \"int\") to str"
     ]
    }
   ],
   "source": [
    "umur = int(input(\"Umur kamu:\"))\n",
    "print(type(umur))\n",
    "print(\"Umur kamu adalah\"+\" \"+ umur)"
   ]
  },
  {
   "cell_type": "code",
   "execution_count": 10,
   "id": "thirty-suggestion",
   "metadata": {},
   "outputs": [
    {
     "name": "stdin",
     "output_type": "stream",
     "text": [
      "Umur kamu: 17\n"
     ]
    },
    {
     "name": "stdout",
     "output_type": "stream",
     "text": [
      "<class 'int'>\n",
      "Umur kamu adalah 17\n"
     ]
    }
   ],
   "source": [
    "umur = int(input(\"Umur kamu:\"))\n",
    "print(type(umur))\n",
    "print(\"Umur kamu adalah\"+\" \"+ str(umur))"
   ]
  },
  {
   "cell_type": "code",
   "execution_count": 12,
   "id": "virgin-billy",
   "metadata": {},
   "outputs": [
    {
     "name": "stdin",
     "output_type": "stream",
     "text": [
      "Umur kamu: 17\n"
     ]
    },
    {
     "name": "stdout",
     "output_type": "stream",
     "text": [
      "<class 'int'>\n",
      "Umur kamu adalah 17\n"
     ]
    }
   ],
   "source": [
    "umur = int(input(\"Umur kamu:\"))\n",
    "print(type(umur))\n",
    "print(\"Umur kamu adalah\", umur)"
   ]
  },
  {
   "cell_type": "markdown",
   "id": "protecting-smell",
   "metadata": {},
   "source": [
    "# String Operation"
   ]
  },
  {
   "cell_type": "code",
   "execution_count": 13,
   "id": "unique-president",
   "metadata": {},
   "outputs": [
    {
     "name": "stdout",
     "output_type": "stream",
     "text": [
      "Hello, World!\n"
     ]
    }
   ],
   "source": [
    "a = \"Hello, World!\"\n",
    "print(a)"
   ]
  },
  {
   "cell_type": "code",
   "execution_count": 14,
   "id": "appointed-trust",
   "metadata": {},
   "outputs": [
    {
     "name": "stdout",
     "output_type": "stream",
     "text": [
      "o\n"
     ]
    }
   ],
   "source": [
    "a = \"Hello, World!\"\n",
    "print(a[4])"
   ]
  },
  {
   "cell_type": "code",
   "execution_count": 15,
   "id": "under-ridge",
   "metadata": {},
   "outputs": [
    {
     "name": "stdout",
     "output_type": "stream",
     "text": [
      "ello, World!\n"
     ]
    }
   ],
   "source": [
    "print(a[1:])"
   ]
  },
  {
   "cell_type": "code",
   "execution_count": 17,
   "id": "following-poland",
   "metadata": {},
   "outputs": [
    {
     "name": "stdout",
     "output_type": "stream",
     "text": [
      "ello\n"
     ]
    }
   ],
   "source": [
    "print(a[1:5])"
   ]
  },
  {
   "cell_type": "code",
   "execution_count": 20,
   "id": "peripheral-developer",
   "metadata": {},
   "outputs": [
    {
     "name": "stdout",
     "output_type": "stream",
     "text": [
      "d\n"
     ]
    }
   ],
   "source": [
    "a = \"Hello, World!\"\n",
    "print(a[-2])"
   ]
  },
  {
   "cell_type": "code",
   "execution_count": 21,
   "id": "competent-slave",
   "metadata": {},
   "outputs": [
    {
     "name": "stdout",
     "output_type": "stream",
     "text": [
      "13\n"
     ]
    }
   ],
   "source": [
    "print(len(a))"
   ]
  },
  {
   "cell_type": "markdown",
   "id": "opponent-voluntary",
   "metadata": {},
   "source": [
    "# String Formatting"
   ]
  },
  {
   "cell_type": "code",
   "execution_count": 28,
   "id": "after-creativity",
   "metadata": {},
   "outputs": [
    {
     "name": "stdin",
     "output_type": "stream",
     "text": [
      "Masukkan nama: Rizki\n",
      "Masukkan umur 17\n"
     ]
    },
    {
     "name": "stdout",
     "output_type": "stream",
     "text": [
      "Nama saya Rizki, dan saya berumur 17 tahun\n",
      "Nama saya Rizki, dan saya berumur 17 tahun\n",
      "('Nama saya', 'Rizki', ', dan saya berumur', '17', 'tahun')\n",
      "Nama saya Rizki , dan saya berumur 17 tahun\n"
     ]
    }
   ],
   "source": [
    "nama = input(\"Masukkan nama:\")\n",
    "umur = input(\"Masukkan umur\")\n",
    "text = \"Nama saya {}, dan saya berumur {} tahun\".format (nama, umur)\n",
    "print(text)\n",
    "text2 = \"Nama saya\"+\" \"+ nama +\", dan saya berumur\"+\" \"+ umur +\" \"+\"tahun\"\n",
    "print(text2)\n",
    "text3 = \"Nama saya\", nama, \", dan saya berumur\", umur,\"tahun\"\n",
    "print(text3)\n",
    "print(\"Nama saya\", nama, \", dan saya berumur\", umur,\"tahun\")"
   ]
  },
  {
   "cell_type": "markdown",
   "id": "boolean-struggle",
   "metadata": {},
   "source": [
    "# Conditional If"
   ]
  },
  {
   "cell_type": "code",
   "execution_count": 30,
   "id": "outside-masters",
   "metadata": {},
   "outputs": [
    {
     "name": "stdout",
     "output_type": "stream",
     "text": [
      "a lebih kecil dari b\n"
     ]
    }
   ],
   "source": [
    "a = 10\n",
    "b = 15\n",
    "\n",
    "if a > b:\n",
    "    print(\"a lebih besar dari b\")\n",
    "elif a == b:\n",
    "    print(\"a sama dengan b\")\n",
    "else:\n",
    "    print(\"a lebih kecil dari b\")"
   ]
  },
  {
   "cell_type": "code",
   "execution_count": 32,
   "id": "difficult-words",
   "metadata": {},
   "outputs": [
    {
     "name": "stdout",
     "output_type": "stream",
     "text": [
      "buah a sama dengan buah b\n"
     ]
    }
   ],
   "source": [
    "a = \"Apel\"\n",
    "b = \"Apel\"\n",
    "\n",
    "if a != b:\n",
    "    print(\"buah a berbeda dengan buah b\")\n",
    "else:\n",
    "    print(\"buah a sama dengan buah b\")"
   ]
  },
  {
   "cell_type": "code",
   "execution_count": 33,
   "id": "latin-equilibrium",
   "metadata": {},
   "outputs": [
    {
     "name": "stdout",
     "output_type": "stream",
     "text": [
      "True\n",
      "False\n",
      "True\n",
      "False\n",
      "True\n"
     ]
    }
   ],
   "source": [
    "print (True and True)\n",
    "print (True and False)\n",
    "print (True or False)\n",
    "print (not True)\n",
    "print (not False)"
   ]
  },
  {
   "cell_type": "markdown",
   "id": "smart-scout",
   "metadata": {},
   "source": [
    "# List"
   ]
  },
  {
   "cell_type": "code",
   "execution_count": 36,
   "id": "soviet-dominant",
   "metadata": {},
   "outputs": [
    {
     "name": "stdout",
     "output_type": "stream",
     "text": [
      "[1, 2, 3, 100]\n"
     ]
    }
   ],
   "source": [
    "mylist = []\n",
    "mylist.append(1)\n",
    "mylist.append(2)\n",
    "mylist.append(3)\n",
    "mylist.append(100)\n",
    "print(mylist)"
   ]
  },
  {
   "cell_type": "code",
   "execution_count": 37,
   "id": "dominant-license",
   "metadata": {},
   "outputs": [
    {
     "name": "stdout",
     "output_type": "stream",
     "text": [
      "4\n"
     ]
    }
   ],
   "source": [
    "print(len(mylist))"
   ]
  },
  {
   "cell_type": "code",
   "execution_count": 42,
   "id": "executive-humidity",
   "metadata": {},
   "outputs": [
    {
     "name": "stdout",
     "output_type": "stream",
     "text": [
      "['a', 'b']\n",
      "2\n",
      "a\n"
     ]
    }
   ],
   "source": [
    "mylist2 = []\n",
    "mylist2.append(\"a\")\n",
    "mylist2.append(\"b\")\n",
    "print(mylist2)\n",
    "print(len(mylist2))\n",
    "print(mylist2[0])"
   ]
  },
  {
   "cell_type": "code",
   "execution_count": null,
   "id": "vulnerable-overall",
   "metadata": {},
   "outputs": [],
   "source": [
    "# For loop in list"
   ]
  },
  {
   "cell_type": "code",
   "execution_count": 51,
   "id": "bronze-tragedy",
   "metadata": {},
   "outputs": [
    {
     "name": "stdout",
     "output_type": "stream",
     "text": [
      "Nilai: 1\n",
      "Nilai: 2\n",
      "Nilai: 3\n",
      "Nilai: 100\n"
     ]
    }
   ],
   "source": [
    "for c in mylist:\n",
    "    print(\"Nilai:\"+\" \"+str(c))"
   ]
  },
  {
   "cell_type": "code",
   "execution_count": 50,
   "id": "incoming-shore",
   "metadata": {},
   "outputs": [
    {
     "name": "stdout",
     "output_type": "stream",
     "text": [
      "Huruf: a\n",
      "Huruf: b\n"
     ]
    }
   ],
   "source": [
    "for z in mylist2:\n",
    "    print(\"Huruf:\", z)"
   ]
  },
  {
   "cell_type": "code",
   "execution_count": 54,
   "id": "brilliant-reduction",
   "metadata": {},
   "outputs": [
    {
     "name": "stdout",
     "output_type": "stream",
     "text": [
      "apel\n",
      "jeruk\n",
      "mangga\n",
      "lemon\n",
      "salak\n"
     ]
    }
   ],
   "source": [
    "nama_buah = [\"apel\", \"jeruk\", \"mangga\", \"lemon\", \"salak\"]\n",
    "\n",
    "print(nama_buah[0])\n",
    "print(nama_buah[1])\n",
    "print(nama_buah[2])\n",
    "print(nama_buah[3])\n",
    "print(nama_buah[4])"
   ]
  },
  {
   "cell_type": "code",
   "execution_count": 55,
   "id": "respected-jesus",
   "metadata": {},
   "outputs": [
    {
     "name": "stdout",
     "output_type": "stream",
     "text": [
      "5\n",
      "['apel', 'jeruk', 'mangga', 'lemon', 'salak']\n"
     ]
    }
   ],
   "source": [
    "print(len(nama_buah))\n",
    "print(nama_buah)"
   ]
  },
  {
   "cell_type": "code",
   "execution_count": 57,
   "id": "charged-watts",
   "metadata": {},
   "outputs": [
    {
     "name": "stdout",
     "output_type": "stream",
     "text": [
      "apel\n",
      "jeruk\n",
      "mangga\n",
      "lemon\n",
      "salak\n"
     ]
    }
   ],
   "source": [
    "for j in nama_buah:\n",
    "    print(j)"
   ]
  },
  {
   "cell_type": "code",
   "execution_count": 62,
   "id": "standard-venice",
   "metadata": {},
   "outputs": [
    {
     "name": "stdout",
     "output_type": "stream",
     "text": [
      "1\n",
      "2\n",
      "3\n",
      "4\n",
      "5\n",
      "6\n",
      "7\n",
      "8\n",
      "9\n",
      "10\n",
      "\n",
      "selesai\n"
     ]
    }
   ],
   "source": [
    "for y in range(1,11):\n",
    "    print(y)\n",
    "print(\"\\nselesai\")"
   ]
  },
  {
   "cell_type": "markdown",
   "id": "fallen-fifteen",
   "metadata": {},
   "source": [
    "# Quiz"
   ]
  },
  {
   "cell_type": "markdown",
   "id": "written-tower",
   "metadata": {},
   "source": [
    "Buatlah program kalkulator sederhana dengan menu (penjumlahan, pengurangan, perkalian, pembagian) dengan 'user input' dan 'conditional if'"
   ]
  },
  {
   "cell_type": "code",
   "execution_count": 68,
   "id": "steady-theta",
   "metadata": {},
   "outputs": [
    {
     "name": "stdin",
     "output_type": "stream",
     "text": [
      "Ayo pilih menu= 1:Penjumlahan, 2:Pengurangan, 3:Perkalian, 4:Pembagian, 5:Keluar (silahkan pilih angka saja): 5\n"
     ]
    },
    {
     "name": "stdout",
     "output_type": "stream",
     "text": [
      "\n",
      "Oke, terima kasih sudah menggunakan kalkulator ini\n",
      "==================\n"
     ]
    }
   ],
   "source": [
    "operasi = input(\"Ayo pilih menu= 1:Penjumlahan, 2:Pengurangan, 3:Perkalian, 4:Pembagian, 5:Keluar (silahkan pilih angka saja):\")\n",
    "\n",
    "if operasi == \"1\":\n",
    "    x = int(input(\"Masukkan angka ke-1:\"))\n",
    "    y = int(input(\"Masukkan angka ke-2:\"))\n",
    "    print(\"Nilai {} + {}\".format (x,y), \"=\", x+y)\n",
    "    print(\"==================\")\n",
    "elif operasi == \"2\":\n",
    "    x = int(input(\"Masukkan angka ke-1:\"))\n",
    "    y = int(input(\"Masukkan angka ke-2:\"))\n",
    "    print(\"Nilai {} - {}\".format (x,y), \"=\", x-y)\n",
    "    print(\"==================\")\n",
    "elif operasi == \"3\":\n",
    "    x = int(input(\"Masukkan angka ke-1:\"))\n",
    "    y = int(input(\"Masukkan angka ke-2:\"))\n",
    "    print(\"Nilai {} x {}\".format (x,y), \"=\", x*y)\n",
    "    print(\"==================\")\n",
    "elif operasi == \"4\":\n",
    "    x = int(input(\"Masukkan angka ke-1:\"))\n",
    "    y = int(input(\"Masukkan angka ke-2:\"))\n",
    "    print(\"Nilai {} : {}\".format (x,y), \"=\", x/y)\n",
    "    print(\"==================\")\n",
    "elif operasi == \"5\":\n",
    "    print(\"\\nOke, terima kasih sudah menggunakan kalkulator ini\")\n",
    "    print(\"==================\")\n",
    "else:\n",
    "    print(\"\\nMaaf, pilihan menu angka tidak ada\")\n",
    "    print(\"==================\")"
   ]
  },
  {
   "cell_type": "code",
   "execution_count": null,
   "id": "athletic-decade",
   "metadata": {},
   "outputs": [],
   "source": []
  }
 ],
 "metadata": {
  "kernelspec": {
   "display_name": "Python 3",
   "language": "python",
   "name": "python3"
  },
  "language_info": {
   "codemirror_mode": {
    "name": "ipython",
    "version": 3
   },
   "file_extension": ".py",
   "mimetype": "text/x-python",
   "name": "python",
   "nbconvert_exporter": "python",
   "pygments_lexer": "ipython3",
   "version": "3.8.3"
  }
 },
 "nbformat": 4,
 "nbformat_minor": 5
}
