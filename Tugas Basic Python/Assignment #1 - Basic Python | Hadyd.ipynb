{
 "cells": [
  {
   "cell_type": "markdown",
   "id": "fixed-conviction",
   "metadata": {},
   "source": [
    "# Assignment #1 -Basic Python"
   ]
  },
  {
   "cell_type": "markdown",
   "id": "indonesian-robert",
   "metadata": {},
   "source": [
    "## Jawaban Soal 1"
   ]
  },
  {
   "cell_type": "code",
   "execution_count": 2,
   "id": "arranged-microphone",
   "metadata": {},
   "outputs": [
    {
     "name": "stdout",
     "output_type": "stream",
     "text": [
      "Masukkan Nama :Hadyd\n",
      "Masukkan Umur :22\n",
      "Masukkan Tinggi Badan (cm) :170\n",
      "Nama saya Hadyd, umur saya  22 tahun dan tinggi saya  170.0 cm\n"
     ]
    }
   ],
   "source": [
    "#Variabel Input\n",
    "nama = input(\"Masukkan Nama :\")\n",
    "umur = int(input(\"Masukkan Umur :\"))\n",
    "tinggi = float(input(\"Masukkan Tinggi Badan (cm) :\"))\n",
    "#Print Out\n",
    "print('Nama saya '+nama+', umur saya ',umur,'tahun dan tinggi saya ',tinggi,'cm' )"
   ]
  },
  {
   "cell_type": "markdown",
   "id": "ready-least",
   "metadata": {},
   "source": [
    "## Jawaban Soal 2"
   ]
  },
  {
   "cell_type": "code",
   "execution_count": 3,
   "id": "acknowledged-campbell",
   "metadata": {},
   "outputs": [
    {
     "name": "stdout",
     "output_type": "stream",
     "text": [
      "Masukan nilai jari-jari lingkaran (cm) :7\n",
      "Luas lingkaran dengan jari-jari 7 cm adalah  154.00 cm ²\n"
     ]
    }
   ],
   "source": [
    "#Input Jari-Jari Lingkaran\n",
    "jari2 = int(input(\"Masukkan nilai jari-jari lingkaran (cm) :\"))\n",
    "#Menghitung Luas Lingkaran\n",
    "luasLingkaran = 22/7*jari2**2\n",
    "#Print Out\n",
    "print('Luas lingkaran dengan jari-jari', jari2,'cm adalah ',\"{:.2f}\".format(luasLingkaran),'cm \\u00b2')"
   ]
  },
  {
   "cell_type": "markdown",
   "id": "opponent-market",
   "metadata": {},
   "source": [
    "## Jawaban Soal 3"
   ]
  },
  {
   "cell_type": "code",
   "execution_count": 4,
   "id": "negative-burning",
   "metadata": {},
   "outputs": [
    {
     "name": "stdout",
     "output_type": "stream",
     "text": [
      "Masukkan nilai ujian teori :75.5\n",
      "Masukkan nilai ujian praktek :85.5\n",
      "Selamat, anda Lulus!\n"
     ]
    }
   ],
   "source": [
    "#Input Nilai\n",
    "nilaiUjianTeori = float(input(\"Masukkan nilai ujian teori :\"))\n",
    "nilaiUjianPraktek = float(input(\"Masukkan nilai ujian praktek :\"))\n",
    "#Conditional\n",
    "if nilaiUjianTeori>=70.0 and nilaiUjianPraktek>=70.0 :\n",
    "    print('Selamat, anda Lulus!')\n",
    "elif nilaiUjianTeori>=70.0 and nilaiUjianPraktek<70.0 :\n",
    "    print('Anda harus mengulang ujian praktek.')\n",
    "elif nilaiUjianTeori<70.0 and nilaiUjianPraktek>=70.0 :\n",
    "    print('Anda harus mengulang ujian teori.')   \n",
    "else :\n",
    "     print('Anda harus mengulang ujian teori dan praktek.')"
   ]
  }
 ],
 "metadata": {
  "kernelspec": {
   "display_name": "Python 3",
   "language": "python",
   "name": "python3"
  },
  "language_info": {
   "codemirror_mode": {
    "name": "ipython",
    "version": 3
   },
   "file_extension": ".py",
   "mimetype": "text/x-python",
   "name": "python",
   "nbconvert_exporter": "python",
   "pygments_lexer": "ipython3",
   "version": "3.8.5"
  }
 },
 "nbformat": 4,
 "nbformat_minor": 5
}
